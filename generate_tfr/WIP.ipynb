{
 "cells": [
  {
   "cell_type": "markdown",
   "metadata": {},
   "source": [
    "\n",
    "useful:\n",
    "\n",
    "- https://magenta.tensorflow.org/svg-vae\n",
    "- github: https://github.com/magenta/magenta/tree/master/magenta/models/svg_vae\n",
    "- notebook: https://github.com/magenta/magenta-demos/blob/master/colab-notebooks/vae_svg_decoding.ipynb"
   ]
  },
  {
   "cell_type": "code",
   "execution_count": 1,
   "metadata": {},
   "outputs": [],
   "source": [
    "%load_ext autoreload\n",
    "%autoreload 2"
   ]
  },
  {
   "cell_type": "code",
   "execution_count": 2,
   "metadata": {},
   "outputs": [],
   "source": [
    "import numpy as np\n",
    "import tensorflow as tf\n",
    "import pathlib\n",
    "import matplotlib.pyplot as plt"
   ]
  },
  {
   "cell_type": "code",
   "execution_count": 3,
   "metadata": {},
   "outputs": [],
   "source": [
    "SEED = 42\n",
    "records_dir = pathlib.Path(\"./tfrs\")\n",
    "file_paths = [str(fp) for fp in list(records_dir.glob(\"*\"))]"
   ]
  },
  {
   "cell_type": "code",
   "execution_count": 4,
   "metadata": {},
   "outputs": [],
   "source": [
    "filepath_dataset = tf.data.Dataset.list_files(file_paths, seed=SEED)"
   ]
  },
  {
   "cell_type": "code",
   "execution_count": 5,
   "metadata": {},
   "outputs": [],
   "source": [
    "full_dataset = filepath_dataset.interleave(\n",
    "        lambda filepath: tf.data.TFRecordDataset(filepath),\n",
    "        cycle_length=tf.data.experimental.AUTOTUNE,\n",
    "    )"
   ]
  },
  {
   "cell_type": "code",
   "execution_count": 6,
   "metadata": {},
   "outputs": [],
   "source": [
    "# for raw_record in full_dataset.take(1):\n",
    "#     example = tf.train.Example()\n",
    "#     example.ParseFromString(raw_record.numpy())\n",
    "#     print(example)"
   ]
  },
  {
   "cell_type": "code",
   "execution_count": 7,
   "metadata": {},
   "outputs": [],
   "source": [
    "feature_description = {\n",
    "    'rendered': tf.io.FixedLenSequenceFeature([], tf.float32, allow_missing=True),\n",
    "    'seq_len': tf.io.FixedLenFeature([], tf.int64),\n",
    "    'class': tf.io.FixedLenFeature([], tf.int64),\n",
    "    'binary_fp': tf.io.FixedLenSequenceFeature([], tf.string, allow_missing=True),\n",
    "    'sequence': tf.io.FixedLenSequenceFeature([], tf.float32, allow_missing=True),\n",
    "}\n",
    "\n",
    "def _parse_function(example_proto):\n",
    "  # Parse the input `tf.train.Example` proto using the dictionary above.\n",
    "  return tf.io.parse_single_example(example_proto, feature_description)"
   ]
  },
  {
   "cell_type": "code",
   "execution_count": 8,
   "metadata": {},
   "outputs": [],
   "source": [
    "parsed_dataset = full_dataset.map(_parse_function)"
   ]
  },
  {
   "cell_type": "code",
   "execution_count": 9,
   "metadata": {},
   "outputs": [],
   "source": [
    "for a in parsed_dataset.take(2):\n",
    "    rendered = np.reshape(a['rendered'].numpy(), (64,64))\n",
    "    sequence = np.reshape(a['sequence'].numpy(), (51,10))\n",
    "    classx = np.reshape(a['class'].numpy(), (1))\n",
    "    seq_len = np.reshape(a['seq_len'].numpy(), (1))\n",
    "    binary_fp = a['binary_fp'].numpy()\n",
    "#     plt.imshow(rendered)\n",
    "#     plt.show()"
   ]
  },
  {
   "cell_type": "code",
   "execution_count": null,
   "metadata": {},
   "outputs": [],
   "source": []
  }
 ],
 "metadata": {
  "kernelspec": {
   "display_name": "tf2",
   "language": "python",
   "name": "tf2"
  },
  "language_info": {
   "codemirror_mode": {
    "name": "ipython",
    "version": 3
   },
   "file_extension": ".py",
   "mimetype": "text/x-python",
   "name": "python",
   "nbconvert_exporter": "python",
   "pygments_lexer": "ipython3",
   "version": "3.6.7"
  }
 },
 "nbformat": 4,
 "nbformat_minor": 2
}
